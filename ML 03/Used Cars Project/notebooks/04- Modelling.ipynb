{
 "cells": [
  {
   "cell_type": "code",
   "execution_count": 1,
   "id": "30bbf05a",
   "metadata": {},
   "outputs": [
    {
     "data": {
      "text/html": [
       "<div>\n",
       "<style scoped>\n",
       "    .dataframe tbody tr th:only-of-type {\n",
       "        vertical-align: middle;\n",
       "    }\n",
       "\n",
       "    .dataframe tbody tr th {\n",
       "        vertical-align: top;\n",
       "    }\n",
       "\n",
       "    .dataframe thead th {\n",
       "        text-align: right;\n",
       "    }\n",
       "</style>\n",
       "<table border=\"1\" class=\"dataframe\">\n",
       "  <thead>\n",
       "    <tr style=\"text-align: right;\">\n",
       "      <th></th>\n",
       "      <th>Location</th>\n",
       "      <th>Kilometers_Driven</th>\n",
       "      <th>Fuel_Type</th>\n",
       "      <th>Transmission</th>\n",
       "      <th>Owner_Type</th>\n",
       "      <th>Mileage</th>\n",
       "      <th>Engine</th>\n",
       "      <th>Power</th>\n",
       "      <th>Seats</th>\n",
       "      <th>Brand</th>\n",
       "      <th>Model</th>\n",
       "      <th>Age</th>\n",
       "    </tr>\n",
       "  </thead>\n",
       "  <tbody>\n",
       "    <tr>\n",
       "      <th>2952</th>\n",
       "      <td>Mumbai</td>\n",
       "      <td>22000</td>\n",
       "      <td>Petrol</td>\n",
       "      <td>Manual</td>\n",
       "      <td>First</td>\n",
       "      <td>16.47</td>\n",
       "      <td>1198.0</td>\n",
       "      <td>74.0</td>\n",
       "      <td>5.0</td>\n",
       "      <td>Volkswagen</td>\n",
       "      <td>Polo</td>\n",
       "      <td>5</td>\n",
       "    </tr>\n",
       "    <tr>\n",
       "      <th>1647</th>\n",
       "      <td>Pune</td>\n",
       "      <td>69000</td>\n",
       "      <td>Diesel</td>\n",
       "      <td>Automatic</td>\n",
       "      <td>First</td>\n",
       "      <td>NaN</td>\n",
       "      <td>2987.0</td>\n",
       "      <td>165.0</td>\n",
       "      <td>5.0</td>\n",
       "      <td>Mercedes-Benz</td>\n",
       "      <td>M-Class</td>\n",
       "      <td>5</td>\n",
       "    </tr>\n",
       "    <tr>\n",
       "      <th>5301</th>\n",
       "      <td>Coimbatore</td>\n",
       "      <td>20026</td>\n",
       "      <td>Petrol</td>\n",
       "      <td>Automatic</td>\n",
       "      <td>First</td>\n",
       "      <td>19.00</td>\n",
       "      <td>1199.0</td>\n",
       "      <td>88.7</td>\n",
       "      <td>5.0</td>\n",
       "      <td>Honda</td>\n",
       "      <td>Jazz</td>\n",
       "      <td>2</td>\n",
       "    </tr>\n",
       "    <tr>\n",
       "      <th>657</th>\n",
       "      <td>Hyderabad</td>\n",
       "      <td>13000</td>\n",
       "      <td>Petrol</td>\n",
       "      <td>Automatic</td>\n",
       "      <td>First</td>\n",
       "      <td>22.00</td>\n",
       "      <td>1197.0</td>\n",
       "      <td>81.8</td>\n",
       "      <td>5.0</td>\n",
       "      <td>Maruti</td>\n",
       "      <td>Dzire</td>\n",
       "      <td>3</td>\n",
       "    </tr>\n",
       "    <tr>\n",
       "      <th>2273</th>\n",
       "      <td>Mumbai</td>\n",
       "      <td>122000</td>\n",
       "      <td>Diesel</td>\n",
       "      <td>Manual</td>\n",
       "      <td>Second</td>\n",
       "      <td>11.50</td>\n",
       "      <td>2982.0</td>\n",
       "      <td>171.0</td>\n",
       "      <td>7.0</td>\n",
       "      <td>Toyota</td>\n",
       "      <td>Fortuner</td>\n",
       "      <td>10</td>\n",
       "    </tr>\n",
       "    <tr>\n",
       "      <th>...</th>\n",
       "      <td>...</td>\n",
       "      <td>...</td>\n",
       "      <td>...</td>\n",
       "      <td>...</td>\n",
       "      <td>...</td>\n",
       "      <td>...</td>\n",
       "      <td>...</td>\n",
       "      <td>...</td>\n",
       "      <td>...</td>\n",
       "      <td>...</td>\n",
       "      <td>...</td>\n",
       "      <td>...</td>\n",
       "    </tr>\n",
       "    <tr>\n",
       "      <th>3772</th>\n",
       "      <td>Delhi</td>\n",
       "      <td>70000</td>\n",
       "      <td>Petrol</td>\n",
       "      <td>Manual</td>\n",
       "      <td>First</td>\n",
       "      <td>19.00</td>\n",
       "      <td>998.0</td>\n",
       "      <td>66.1</td>\n",
       "      <td>5.0</td>\n",
       "      <td>Maruti</td>\n",
       "      <td>A-Star</td>\n",
       "      <td>10</td>\n",
       "    </tr>\n",
       "    <tr>\n",
       "      <th>5191</th>\n",
       "      <td>Kolkata</td>\n",
       "      <td>28000</td>\n",
       "      <td>Petrol</td>\n",
       "      <td>Manual</td>\n",
       "      <td>First</td>\n",
       "      <td>18.90</td>\n",
       "      <td>1197.0</td>\n",
       "      <td>82.0</td>\n",
       "      <td>5.0</td>\n",
       "      <td>Hyundai</td>\n",
       "      <td>Grand</td>\n",
       "      <td>7</td>\n",
       "    </tr>\n",
       "    <tr>\n",
       "      <th>5226</th>\n",
       "      <td>Chennai</td>\n",
       "      <td>123000</td>\n",
       "      <td>Diesel</td>\n",
       "      <td>Manual</td>\n",
       "      <td>Second</td>\n",
       "      <td>12.55</td>\n",
       "      <td>2982.0</td>\n",
       "      <td>168.5</td>\n",
       "      <td>7.0</td>\n",
       "      <td>Toyota</td>\n",
       "      <td>Fortuner</td>\n",
       "      <td>7</td>\n",
       "    </tr>\n",
       "    <tr>\n",
       "      <th>5390</th>\n",
       "      <td>Hyderabad</td>\n",
       "      <td>78000</td>\n",
       "      <td>Petrol</td>\n",
       "      <td>Manual</td>\n",
       "      <td>Second</td>\n",
       "      <td>20.92</td>\n",
       "      <td>998.0</td>\n",
       "      <td>67.1</td>\n",
       "      <td>5.0</td>\n",
       "      <td>Maruti</td>\n",
       "      <td>Alto</td>\n",
       "      <td>9</td>\n",
       "    </tr>\n",
       "    <tr>\n",
       "      <th>860</th>\n",
       "      <td>Hyderabad</td>\n",
       "      <td>33000</td>\n",
       "      <td>Petrol</td>\n",
       "      <td>Manual</td>\n",
       "      <td>First</td>\n",
       "      <td>17.80</td>\n",
       "      <td>1198.0</td>\n",
       "      <td>86.7</td>\n",
       "      <td>5.0</td>\n",
       "      <td>Honda</td>\n",
       "      <td>Amaze</td>\n",
       "      <td>4</td>\n",
       "    </tr>\n",
       "  </tbody>\n",
       "</table>\n",
       "<p>4495 rows × 12 columns</p>\n",
       "</div>"
      ],
      "text/plain": [
       "        Location  Kilometers_Driven Fuel_Type Transmission Owner_Type  \\\n",
       "2952      Mumbai              22000    Petrol       Manual      First   \n",
       "1647        Pune              69000    Diesel    Automatic      First   \n",
       "5301  Coimbatore              20026    Petrol    Automatic      First   \n",
       "657    Hyderabad              13000    Petrol    Automatic      First   \n",
       "2273      Mumbai             122000    Diesel       Manual     Second   \n",
       "...          ...                ...       ...          ...        ...   \n",
       "3772       Delhi              70000    Petrol       Manual      First   \n",
       "5191     Kolkata              28000    Petrol       Manual      First   \n",
       "5226     Chennai             123000    Diesel       Manual     Second   \n",
       "5390   Hyderabad              78000    Petrol       Manual     Second   \n",
       "860    Hyderabad              33000    Petrol       Manual      First   \n",
       "\n",
       "      Mileage  Engine  Power  Seats          Brand     Model  Age  \n",
       "2952    16.47  1198.0   74.0    5.0     Volkswagen      Polo    5  \n",
       "1647      NaN  2987.0  165.0    5.0  Mercedes-Benz   M-Class    5  \n",
       "5301    19.00  1199.0   88.7    5.0          Honda      Jazz    2  \n",
       "657     22.00  1197.0   81.8    5.0         Maruti     Dzire    3  \n",
       "2273    11.50  2982.0  171.0    7.0         Toyota  Fortuner   10  \n",
       "...       ...     ...    ...    ...            ...       ...  ...  \n",
       "3772    19.00   998.0   66.1    5.0         Maruti    A-Star   10  \n",
       "5191    18.90  1197.0   82.0    5.0        Hyundai     Grand    7  \n",
       "5226    12.55  2982.0  168.5    7.0         Toyota  Fortuner    7  \n",
       "5390    20.92   998.0   67.1    5.0         Maruti      Alto    9  \n",
       "860     17.80  1198.0   86.7    5.0          Honda     Amaze    4  \n",
       "\n",
       "[4495 rows x 12 columns]"
      ]
     },
     "execution_count": 1,
     "metadata": {},
     "output_type": "execute_result"
    }
   ],
   "source": [
    "import pickle\n",
    "\n",
    "with open('../data/unprocessed_data.pkl', 'rb') as f:\n",
    "    X_train, y_train, X_test, y_test = pickle.load(f)\n",
    "    \n",
    "X_train"
   ]
  },
  {
   "cell_type": "code",
   "execution_count": 2,
   "id": "458936ff",
   "metadata": {},
   "outputs": [
    {
     "data": {
      "text/plain": [
       "array([[-1.08423424, -0.4720888 , -0.72760357, ...,  0.        ,\n",
       "         1.        ,  3.        ],\n",
       "       [ 0.4521476 ,  0.02363623,  2.62788967, ...,  1.        ,\n",
       "         0.        ,  3.        ],\n",
       "       [-1.14876227,  0.14573599, -0.72572795, ...,  1.        ,\n",
       "         1.        ,  3.        ],\n",
       "       ...,\n",
       "       [ 2.21735226, -1.42935092,  2.61851154, ...,  0.        ,\n",
       "         1.        ,  2.        ],\n",
       "       [ 0.74634838,  0.61459907, -1.10272859, ...,  0.        ,\n",
       "         0.        ,  2.        ],\n",
       "       [-0.72465551, -0.14730344, -0.72760357, ...,  1.        ,\n",
       "         1.        ,  3.        ]])"
      ]
     },
     "execution_count": 2,
     "metadata": {},
     "output_type": "execute_result"
    }
   ],
   "source": [
    "with open('../data/preprocessed_data.pkl', 'rb') as f:\n",
    "    X_train_prep, _, X_test_prep, _ = pickle.load(f)\n",
    "\n",
    "X_train_prep"
   ]
  },
  {
   "cell_type": "markdown",
   "id": "dd7777c7",
   "metadata": {},
   "source": [
    "# Linear Regression\n"
   ]
  },
  {
   "cell_type": "code",
   "execution_count": 3,
   "id": "6f7e7d21",
   "metadata": {},
   "outputs": [
    {
     "name": "stdout",
     "output_type": "stream",
     "text": [
      "Intercept: 10.088285094548091\n",
      "Coefficients: [-0.8788273  -0.23932939  1.394484    5.13364552 -2.69583179 -0.30241251\n",
      " -0.82917759  0.99944076  0.84449496 -0.44357373  0.40923293  0.09343068\n",
      " -1.56538317  0.85226665 -0.85226665  6.52082861 -0.12007836 -1.34716553\n",
      "  0.3222884  -2.68695667  1.5630123   1.28358729 -1.27600301  0.0320822\n",
      "  0.04448995 -1.12593053 -0.60769188  0.77858218  0.68489547]\n"
     ]
    }
   ],
   "source": [
    "from sklearn.linear_model import LinearRegression\n",
    "\n",
    "# Linear Regression\n",
    "lr = LinearRegression()\n",
    "lr.fit(X_train_prep, y_train)   # Learn Weights from training data Using OLS (Normal Equation)\n",
    "\n",
    "\n",
    "print('Intercept:', lr.intercept_)\n",
    "print('Coefficients:', lr.coef_)"
   ]
  },
  {
   "cell_type": "code",
   "execution_count": 4,
   "id": "88d042b6",
   "metadata": {},
   "outputs": [
    {
     "name": "stdout",
     "output_type": "stream",
     "text": [
      "Training Accuracy: 0.7403918928031255\n",
      "Testing Accuracy: 0.7582095006214017\n"
     ]
    }
   ],
   "source": [
    "# Predictions\n",
    "y_pred = lr.predict(X_test_prep)\n",
    "\n",
    "# Model Evaluation\n",
    "print('Training Accuracy:', lr.score(X_train_prep, y_train))\n",
    "print('Testing Accuracy:', lr.score(X_test_prep, y_test))"
   ]
  },
  {
   "cell_type": "code",
   "execution_count": 5,
   "id": "de48b1e5",
   "metadata": {},
   "outputs": [
    {
     "name": "stdout",
     "output_type": "stream",
     "text": [
      "RMSE: 4.665008097180856\n",
      "R2: 0.7582095006214017\n"
     ]
    }
   ],
   "source": [
    "# Model Evaluation\n",
    "from sklearn.metrics import root_mean_squared_error, r2_score\n",
    "\n",
    "\n",
    "print('RMSE:', root_mean_squared_error(y_test, y_pred))\n",
    "print('R2:', r2_score(y_test, y_pred))"
   ]
  },
  {
   "cell_type": "markdown",
   "id": "8b63d6f8",
   "metadata": {},
   "source": [
    "> Evaluation on Test Set is not Right. \n",
    "* We should do Cross Validation on Training Set to get the best model and then evaluate it on Test Set."
   ]
  },
  {
   "cell_type": "markdown",
   "id": "f564125a",
   "metadata": {},
   "source": [
    "# Polynomial Regression\n"
   ]
  },
  {
   "cell_type": "code",
   "execution_count": 6,
   "id": "c75dadda",
   "metadata": {},
   "outputs": [],
   "source": [
    "num_cols = ['Kilometers_Driven', 'Mileage', 'Engine', 'Power', 'Age', 'Seats']  # Impute Missing Values and Scale\n",
    "nom_cat_cols = ['Location', 'Fuel_Type', 'Transmission', 'Brand', 'Model']  # USE Binary ENCODING\n",
    "ord_cat_cols = ['Owner_Type']   # USE ORDINAL ENCODING"
   ]
  },
  {
   "cell_type": "code",
   "execution_count": 7,
   "id": "66d3edb1",
   "metadata": {},
   "outputs": [],
   "source": [
    "from sklearn.preprocessing import PolynomialFeatures\n",
    "from sklearn.compose import ColumnTransformer\n",
    "from sklearn.pipeline import Pipeline\n",
    "from sklearn.preprocessing import StandardScaler, OrdinalEncoder\n",
    "from sklearn.impute import SimpleImputer\n",
    "from  category_encoders import BinaryEncoder\n",
    "\n",
    "\n",
    "numerical_transformer = Pipeline(steps=[ ('imputer', SimpleImputer(strategy='median')),\n",
    "                                         ('poly', PolynomialFeatures(degree=2)),\n",
    "                                         ('scaler', StandardScaler())])\n",
    "\n",
    "# Preprocessing for categorical data\n",
    "nominal_categorical_transformer = Pipeline(steps=[('binary', BinaryEncoder())])\n",
    "ordinal_categorical_transformer = Pipeline(steps=[('ordinal', OrdinalEncoder(categories=[['Fourth & Above', 'Third', 'Second', 'First']]))])\n",
    "\n",
    "# Bundle preprocessing for numerical and categorical data\n",
    "preprocessor = ColumnTransformer(transformers=[('num_prep', numerical_transformer, num_cols),\n",
    "                                                ('nom_prep', nominal_categorical_transformer, nom_cat_cols),\n",
    "                                                ('ord_prep', ordinal_categorical_transformer, ord_cat_cols)])\n",
    "\n",
    "X_train_poly = preprocessor.fit_transform(X_train)\n",
    "X_test_poly = preprocessor.transform(X_test)"
   ]
  },
  {
   "cell_type": "code",
   "execution_count": 8,
   "id": "ffc36e4b",
   "metadata": {},
   "outputs": [
    {
     "data": {
      "text/plain": [
       "(1124, 51)"
      ]
     },
     "execution_count": 8,
     "metadata": {},
     "output_type": "execute_result"
    }
   ],
   "source": [
    "X_test_poly.shape"
   ]
  },
  {
   "cell_type": "code",
   "execution_count": 9,
   "id": "8336826f",
   "metadata": {},
   "outputs": [
    {
     "name": "stdout",
     "output_type": "stream",
     "text": [
      "Training Accuracy 0.8643384764640017\n",
      "Testing Accuracy 0.8718695948596691\n"
     ]
    }
   ],
   "source": [
    "lr_poly = LinearRegression()\n",
    "\n",
    "lr_poly.fit(X_train_poly, y_train)\n",
    "\n",
    "# Accuracy\n",
    "print('Training Accuracy', lr_poly.score(X_train_poly, y_train))\n",
    "print('Testing Accuracy', lr_poly.score(X_test_poly, y_test))\n"
   ]
  },
  {
   "cell_type": "code",
   "execution_count": 10,
   "id": "29844ff2",
   "metadata": {},
   "outputs": [
    {
     "name": "stdout",
     "output_type": "stream",
     "text": [
      "RMSE: 4.664805592944952\n",
      "R2: 0.7582304920265913\n"
     ]
    }
   ],
   "source": [
    "# Ridge Regression\n",
    "from sklearn.linear_model import Ridge\n",
    "\n",
    "ridge = Ridge()\n",
    "ridge.fit(X_train_prep, y_train)\n",
    "\n",
    "# Predictions\n",
    "y_pred = ridge.predict(X_test_prep)\n",
    "\n",
    "# Model Evaluation\n",
    "print('RMSE:', root_mean_squared_error(y_test, y_pred))\n",
    "print('R2:', r2_score(y_test, y_pred))"
   ]
  },
  {
   "cell_type": "code",
   "execution_count": 11,
   "id": "cf8dd8d8",
   "metadata": {},
   "outputs": [
    {
     "name": "stdout",
     "output_type": "stream",
     "text": [
      "RMSE: 3.3960322746306404\n",
      "R2: 0.8718619689648504\n"
     ]
    }
   ],
   "source": [
    "# Ridge Regression with polynomial features\n",
    "from sklearn.linear_model import Ridge\n",
    "\n",
    "ridge = Ridge(alpha=0.1)\n",
    "ridge.fit(X_train_poly, y_train)\n",
    "\n",
    "# Predictions\n",
    "y_pred = ridge.predict(X_test_poly)\n",
    "\n",
    "# Model Evaluation\n",
    "print('RMSE:', root_mean_squared_error(y_test, y_pred))\n",
    "print('R2:', r2_score(y_test, y_pred))"
   ]
  },
  {
   "cell_type": "code",
   "execution_count": 12,
   "id": "1740a9ef",
   "metadata": {},
   "outputs": [
    {
     "name": "stdout",
     "output_type": "stream",
     "text": [
      "RMSE: 3.4051631016863215\n",
      "R2: 0.871171999618801\n"
     ]
    }
   ],
   "source": [
    "# Lasso Regression\n",
    "from sklearn.linear_model import Lasso\n",
    "\n",
    "lasso = Lasso(alpha=0.01, max_iter=10000)\n",
    "lasso.fit(X_train_poly, y_train)\n",
    "\n",
    "# Predictions\n",
    "y_pred = lasso.predict(X_test_poly)\n",
    "\n",
    "# Model Evaluation\n",
    "print('RMSE:', root_mean_squared_error(y_test, y_pred))\n",
    "print('R2:', r2_score(y_test, y_pred))"
   ]
  },
  {
   "cell_type": "code",
   "execution_count": 13,
   "id": "8d2ff5d4",
   "metadata": {},
   "outputs": [
    {
     "name": "stdout",
     "output_type": "stream",
     "text": [
      "alpha: 0\n",
      "RMSE: 3.399460304271883\n",
      "R2: 0.8716031477094215\n",
      "-----------------------------\n",
      "alpha: 0.01\n",
      "RMSE: 3.3959398850096654\n",
      "R2: 0.871868940902763\n",
      "-----------------------------\n",
      "alpha: 0.1\n",
      "RMSE: 3.3960322746306404\n",
      "R2: 0.8718619689648504\n",
      "-----------------------------\n",
      "alpha: 1\n",
      "RMSE: 3.397313168743842\n",
      "R2: 0.8717652901412402\n",
      "-----------------------------\n",
      "alpha: 10\n",
      "RMSE: 3.396873830009929\n",
      "R2: 0.8717984544857936\n",
      "-----------------------------\n",
      "alpha: 100\n",
      "RMSE: 3.454468337901782\n",
      "R2: 0.8674142464094409\n",
      "-----------------------------\n"
     ]
    }
   ],
   "source": [
    "for alpha in [0, 0.01, 0.1, 1, 10, 100]:\n",
    "    ridge = Ridge(alpha=alpha)\n",
    "    ridge.fit(X_train_poly, y_train)\n",
    "    y_pred = ridge.predict(X_test_poly)\n",
    "    print('alpha:', alpha)\n",
    "    print('RMSE:', root_mean_squared_error(y_test, y_pred))\n",
    "    print('R2:', r2_score(y_test, y_pred))\n",
    "    print('-----------------------------')"
   ]
  },
  {
   "cell_type": "code",
   "execution_count": 14,
   "id": "b2d3780b",
   "metadata": {},
   "outputs": [],
   "source": [
    "def prep(poly_degree):\n",
    "    numerical_transformer = Pipeline(steps=[ ('imputer', SimpleImputer(strategy='median')),\n",
    "                                         ('poly', PolynomialFeatures(degree=poly_degree)),\n",
    "                                         ('scaler', StandardScaler())])\n",
    "\n",
    "    # Preprocessing for categorical data\n",
    "    nominal_categorical_transformer = Pipeline(steps=[('binary', BinaryEncoder())])\n",
    "    ordinal_categorical_transformer = Pipeline(steps=[('ordinal', OrdinalEncoder(categories=[['Fourth & Above', 'Third', 'Second', 'First']]))])\n",
    "\n",
    "    # Bundle preprocessing for numerical and categorical data\n",
    "    prep = ColumnTransformer(transformers=[('num_prep', numerical_transformer, num_cols),\n",
    "                                                    ('nom_prep', nominal_categorical_transformer, nom_cat_cols),\n",
    "                                                    ('ord_prep', ordinal_categorical_transformer, ord_cat_cols)])\n",
    "\n",
    "    return prep"
   ]
  },
  {
   "cell_type": "code",
   "execution_count": 15,
   "id": "17e53493",
   "metadata": {},
   "outputs": [
    {
     "name": "stdout",
     "output_type": "stream",
     "text": [
      "degree: 2\n",
      "RMSE: 3.3960322746306404\n",
      "R2: 0.8718619689648504\n",
      "-----------------------------\n",
      "degree: 3\n",
      "RMSE: 3.307184600437261\n",
      "R2: 0.8784790090068351\n",
      "-----------------------------\n",
      "degree: 4\n",
      "RMSE: 3.285812236560358\n",
      "R2: 0.8800445695076108\n",
      "-----------------------------\n",
      "degree: 5\n",
      "RMSE: 3.330267907095806\n",
      "R2: 0.876776717720078\n",
      "-----------------------------\n"
     ]
    }
   ],
   "source": [
    "for degree in [2, 3, 4, 5]:\n",
    "    ridge = Ridge(alpha=0.1)\n",
    "    preprocessor = prep(degree)\n",
    "    X_train_poly = preprocessor.fit_transform(X_train)\n",
    "    X_test_poly = preprocessor.transform(X_test)\n",
    "    ridge.fit(X_train_poly, y_train)\n",
    "    y_pred = ridge.predict(X_test_poly)\n",
    "    print('degree:', degree)\n",
    "    print('RMSE:', root_mean_squared_error(y_test, y_pred))\n",
    "    print('R2:', r2_score(y_test, y_pred))\n",
    "    print('-----------------------------')"
   ]
  },
  {
   "cell_type": "code",
   "execution_count": 16,
   "id": "f6f61296",
   "metadata": {},
   "outputs": [
    {
     "name": "stdout",
     "output_type": "stream",
     "text": [
      "degree: 2 alpha: 0.01\n",
      "RMSE: 3.3959398850096654\n",
      "R2: 0.871868940902763\n",
      "-----------------------------\n",
      "degree: 2 alpha: 0.1\n",
      "RMSE: 3.3960322746306404\n",
      "R2: 0.8718619689648504\n",
      "-----------------------------\n",
      "degree: 2 alpha: 1\n",
      "RMSE: 3.397313168743842\n",
      "R2: 0.8717652901412402\n",
      "-----------------------------\n",
      "degree: 2 alpha: 10\n",
      "RMSE: 3.396873830009929\n",
      "R2: 0.8717984544857936\n",
      "-----------------------------\n",
      "degree: 3 alpha: 0.01\n",
      "RMSE: 3.310767086467055\n",
      "R2: 0.8782155927790078\n",
      "-----------------------------\n",
      "degree: 3 alpha: 0.1\n",
      "RMSE: 3.307184600437261\n",
      "R2: 0.8784790090068351\n",
      "-----------------------------\n",
      "degree: 3 alpha: 1\n",
      "RMSE: 3.3018724651809586\n",
      "R2: 0.8788690794597677\n",
      "-----------------------------\n",
      "degree: 3 alpha: 10\n",
      "RMSE: 3.319657531019332\n",
      "R2: 0.8775606561985052\n",
      "-----------------------------\n",
      "degree: 4 alpha: 0.01\n",
      "RMSE: 3.310323793958581\n",
      "R2: 0.8782482030471096\n",
      "-----------------------------\n",
      "degree: 4 alpha: 0.1\n",
      "RMSE: 3.285812236560358\n",
      "R2: 0.8800445695076108\n",
      "-----------------------------\n",
      "degree: 4 alpha: 1\n",
      "RMSE: 3.2904121347014006\n",
      "R2: 0.8797084766636847\n",
      "-----------------------------\n",
      "degree: 4 alpha: 10\n",
      "RMSE: 3.3065784613696154\n",
      "R2: 0.8785235495324009\n",
      "-----------------------------\n",
      "degree: 5 alpha: 0.01\n",
      "RMSE: 3.3595191672171563\n",
      "R2: 0.8746025587113121\n",
      "-----------------------------\n",
      "degree: 5 alpha: 0.1\n",
      "RMSE: 3.330267907095806\n",
      "R2: 0.876776717720078\n",
      "-----------------------------\n",
      "degree: 5 alpha: 1\n",
      "RMSE: 3.2896945546083547\n",
      "R2: 0.8797609378063506\n",
      "-----------------------------\n",
      "degree: 5 alpha: 10\n",
      "RMSE: 3.292159345287611\n",
      "R2: 0.8795806930208969\n",
      "-----------------------------\n"
     ]
    }
   ],
   "source": [
    "for degree in [2, 3, 4, 5]:\n",
    "    for alpha in [0.01, 0.1, 1, 10]:\n",
    "         ridge = Ridge(alpha=alpha)\n",
    "         preprocessor = prep(degree)\n",
    "         X_train_poly = preprocessor.fit_transform(X_train)\n",
    "         X_test_poly = preprocessor.transform(X_test)\n",
    "         ridge.fit(X_train_poly, y_train)\n",
    "         y_pred = ridge.predict(X_test_poly)\n",
    "         print('degree:', degree, 'alpha:', alpha)\n",
    "         print('RMSE:', root_mean_squared_error(y_test, y_pred))\n",
    "         print('R2:', r2_score(y_test, y_pred))\n",
    "         print('-----------------------------')"
   ]
  },
  {
   "cell_type": "code",
   "execution_count": 17,
   "id": "ac9d27a0",
   "metadata": {},
   "outputs": [
    {
     "name": "stdout",
     "output_type": "stream",
     "text": [
      "R2: 0.8718695948596691\n"
     ]
    }
   ],
   "source": [
    "# Final Model\n",
    "\n",
    "model = Pipeline(steps=[('preprocessor', prep(2)),\n",
    "                        ('model', LinearRegression())])\n",
    "\n",
    "model.fit(X_train, y_train)\n",
    "\n",
    "# Predictions\n",
    "y_pred = model.predict(X_test)\n",
    "\n",
    "# Model Evaluation\n",
    "print('R2:', model.score(X_test, y_test))"
   ]
  },
  {
   "cell_type": "code",
   "execution_count": 18,
   "id": "4bed0a01",
   "metadata": {},
   "outputs": [],
   "source": [
    "def prep_and_fit(poly_degree, alpha):\n",
    "    ridge = Ridge(alpha=alpha)\n",
    "    model = Pipeline(steps=[('preprocessor', prep(poly_degree)),\n",
    "                        ('model', Ridge(alpha=alpha))])\n",
    "    model.fit(X_train, y_train)\n",
    "    test_score = r2_score(y_test, model.predict(X_test))\n",
    "    return test_score"
   ]
  },
  {
   "cell_type": "code",
   "execution_count": 19,
   "id": "4815b58e",
   "metadata": {},
   "outputs": [
    {
     "data": {
      "text/plain": [
       "0.8784790090068351"
      ]
     },
     "execution_count": 19,
     "metadata": {},
     "output_type": "execute_result"
    }
   ],
   "source": [
    "prep_and_fit(3, 0.1)"
   ]
  }
 ],
 "metadata": {
  "kernelspec": {
   "display_name": "base",
   "language": "python",
   "name": "python3"
  },
  "language_info": {
   "codemirror_mode": {
    "name": "ipython",
    "version": 3
   },
   "file_extension": ".py",
   "mimetype": "text/x-python",
   "name": "python",
   "nbconvert_exporter": "python",
   "pygments_lexer": "ipython3",
   "version": "3.12.7"
  }
 },
 "nbformat": 4,
 "nbformat_minor": 5
}
